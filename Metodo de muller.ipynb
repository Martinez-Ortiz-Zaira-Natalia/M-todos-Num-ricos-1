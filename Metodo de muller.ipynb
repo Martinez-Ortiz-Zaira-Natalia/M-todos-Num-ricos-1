{
  "nbformat": 4,
  "nbformat_minor": 0,
  "metadata": {
    "colab": {
      "provenance": [],
      "toc_visible": true,
      "include_colab_link": true
    },
    "kernelspec": {
      "name": "python3",
      "display_name": "Python 3"
    },
    "language_info": {
      "name": "python"
    }
  },
  "cells": [
    {
      "cell_type": "markdown",
      "metadata": {
        "id": "view-in-github",
        "colab_type": "text"
      },
      "source": [
        "<a href=\"https://colab.research.google.com/github/Martinez-Ortiz-Zaira-Natalia/M-todos-Num-ricos-1/blob/main/Metodo%20de%20muller.ipynb\" target=\"_parent\"><img src=\"https://colab.research.google.com/assets/colab-badge.svg\" alt=\"Open In Colab\"/></a>"
      ]
    },
    {
      "cell_type": "markdown",
      "source": [
        "# Método de Müller\n",
        "\n"
      ],
      "metadata": {
        "id": "00vLH2JfTOMp"
      }
    },
    {
      "cell_type": "code",
      "source": [
        "#Definimos las bibliotecas que usaremos\n",
        "from math import *\n",
        "import numpy as np"
      ],
      "metadata": {
        "id": "-7kIM8qtTOYB"
      },
      "execution_count": null,
      "outputs": []
    },
    {
      "cell_type": "code",
      "source": [
        "# Define el polinomio\n",
        "def f(x):\n",
        "    return x**3 + 3*x**2 - 1  #aqui puede cambiar el polinomio"
      ],
      "metadata": {
        "id": "NiyOuo9pUXUH"
      },
      "execution_count": null,
      "outputs": []
    },
    {
      "cell_type": "code",
      "source": [
        "# Ingreso datos de entrada para los diferentes métodos a trabajar\n",
        "a= float(input(\"Ingrese el valor de P0(Aproximacion inicial): \"))\n",
        "b=float(input(\"Ingrese el valor de P1(Aproximacion inicial ): \"))\n",
        "c=float(input(\"Ingrese el valor de P2(Aproximacion inicial ): \"))\n",
        "# guarda valores iniciales\n",
        "p0 = a\n",
        "p1=b\n",
        "p2=c\n",
        "\n",
        "#guarda valores iniciales del error y del número de iteraciones\n",
        "tol =float(input(\"Ingrese el valor de la tolerancia: \"))\n",
        "nmax = int(input(\"Ingrese el número máximo de iteraciones: \"))\n",
        "error = 100\n",
        "niter = 3 # Inicializa el contador de iteraciones"
      ],
      "metadata": {
        "id": "ASUfMIk79y40"
      },
      "execution_count": null,
      "outputs": []
    },
    {
      "cell_type": "code",
      "source": [
        "# Método de Müller\n",
        "# Paso 1:\n",
        "#Calculamos h1 y h2\n",
        "h1 = p1 - p0\n",
        "h2 = p2 - p1\n",
        "\n",
        "# Calculamos s1 y s2\n",
        "s1 = (f(p1) - f(p0)) / h1 if h1 != 0 else 0 # se evita la división por cero\n",
        "s2 = (f(p2) - f(p1)) / h2 if h2 != 0 else 0\n",
        "\n",
        "# Calculamos d\n",
        "d = (s2 - s1) / (h2 + h1) if (h2 + h1) != 0 else 0\n",
        "\n",
        "# Se Imprime el encabezados de la tabla\n",
        "print(\"# iter\\t\\t p \\t\\t f(p) \\t\\t error\")\n",
        "#paso 2\n",
        "while niter < nmax:\n",
        "    # Paso 3\n",
        "    b = s2 + h2 * d\n",
        "    discriminante = b**2 - 4 * f(p2) * d  # Cálculo del discriminante\n",
        "\n",
        "    # Maneja el caso negativo\n",
        "    if discriminante < 0:\n",
        "        D = np.sqrt(-discriminante) * 1j  # Es l parte imaginaria\n",
        "    else:\n",
        "        D = np.sqrt(discriminante)  # Es la parte real\n",
        "\n",
        "    # Pao 4: Selección de E\n",
        "    E1 = b + D\n",
        "    E2 = b - D\n",
        "    E = E1 if abs(E1) > abs(E2) else E2 # Seleccionamos el de mayor magnitud\n",
        "\n",
        "    # Paso 5\n",
        "    h = -2 * f(p2) / E\n",
        "    p = p2 + h\n",
        "\n",
        "    # Paso 6 Calcular error\n",
        "    error = abs(h)\n",
        "\n",
        "    #se imprime los resultados en caso de que sea real o imganinario\n",
        "    if np.isreal(p): #si es real\n",
        "        print(\"{0} \\t\\t {1:6.6f} \\t {2:6.6f} \\t {3:6.4f}\".format(niter, p, f(p), error))\n",
        "    else:\n",
        "        # Conjugada el ultimo paso si es complejo\n",
        "        pc = p.real - p.imag * 1j\n",
        "        f_c = f(pc)\n",
        "        # Imprimimos el resultado\n",
        "        print(\"{0} \\t\\t {1:6.6f} \\t {2:6.6f} \\t {3:6.4f}\".format(niter, pc, f_c, error))\n",
        "\n",
        "    # Verificamos la convergencia\n",
        "    if error < tol:\n",
        "        if np.isreal(p):\n",
        "            print(f\"El procedimiento fue exitoso. La raíz es: {p:.6f}\")\n",
        "        else:\n",
        "            print(f\"El procedimiento fue exitoso. La raíz es: {p:.6f} con raíz conjugada: {pc:.6f} y f(conjugada) = {f_c:.6f}\")\n",
        "        break  # Salimos del bucle si se encontró la raíz\n",
        "\n",
        "    # Paso 7: Prepara la siguiente iteración\n",
        "    p0, p1, p2 = p1, p2, p\n",
        "    h1 = p1 - p0\n",
        "    h2 = p2 - p1\n",
        "    s1 = (f(p1) - f(p0)) / h1 if h1 != 0 else 0  # Evitar división por cero\n",
        "    s2 = (f(p2) - f(p1)) / h2 if h2 != 0 else 0  # Evitar división por cero\n",
        "    d = (s2 - s1) / (h2 + h1) if (h2 + h1) != 0 else 0  # Evitar división por cero\n",
        "    niter += 1\n",
        "#Paso 8: Salida\n",
        "if niter >= nmax:\n",
        "    print(f\"El método falló después de {nmax} iteraciones.\")\n"
      ],
      "metadata": {
        "id": "IrPMDIUE-3KZ"
      },
      "execution_count": null,
      "outputs": []
    },
    {
      "cell_type": "markdown",
      "source": [
        "Se tiene un ejemplo del código realizado, es decir, usando el método Müller se resuelve la función $$\n",
        "f(x) = x^3 + 3x^2 - 1\n",
        "$$ con una aproximación $ P_0= 0 ,  P_1= 1 $  y  $ P_2= 2 $ con una tolerancia (error) de $10^{-4}$\n"
      ],
      "metadata": {
        "id": "VhQS5e1Lrmi3"
      }
    }
  ]
}