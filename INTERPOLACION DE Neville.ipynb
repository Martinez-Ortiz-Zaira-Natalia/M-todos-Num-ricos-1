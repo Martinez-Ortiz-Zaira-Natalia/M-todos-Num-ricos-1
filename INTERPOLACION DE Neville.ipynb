{
  "nbformat": 4,
  "nbformat_minor": 0,
  "metadata": {
    "colab": {
      "provenance": [],
      "include_colab_link": true
    },
    "kernelspec": {
      "name": "python3",
      "display_name": "Python 3"
    },
    "language_info": {
      "name": "python"
    }
  },
  "cells": [
    {
      "cell_type": "markdown",
      "metadata": {
        "id": "view-in-github",
        "colab_type": "text"
      },
      "source": [
        "<a href=\"https://colab.research.google.com/github/Martinez-Ortiz-Zaira-Natalia/M-todos-Num-ricos-1/blob/main/INTERPOLACION%20DE%20Neville.ipynb\" target=\"_parent\"><img src=\"https://colab.research.google.com/assets/colab-badge.svg\" alt=\"Open In Colab\"/></a>"
      ]
    },
    {
      "cell_type": "markdown",
      "source": [
        "# Interpolación iterada de Neville\n",
        "\n",
        "\n"
      ],
      "metadata": {
        "id": "H5_BOAE1oBdt"
      }
    },
    {
      "cell_type": "code",
      "source": [
        "#Definir la biblioteca que se usa\n",
        "import numpy as np"
      ],
      "metadata": {
        "id": "8IBibuuxoCFE"
      },
      "execution_count": null,
      "outputs": []
    },
    {
      "cell_type": "code",
      "source": [
        "# Solicitar datos al usuario\n",
        "n = int(input(\"Ingrese el numero de nodos: \"))\n",
        "\n",
        "x = [] #almacena los nodos\n",
        "f = [] #almacena su evaluacion es decir, f(x)\n",
        "\n",
        "print(\"Ingrese los nodos (x) y sus valores correspondientes f(x):\")\n",
        "for i in range(n):\n",
        "    xi = float(input(f\"Ingrese x[{i + 1}]: \"))\n",
        "    fi = float(input(f\"Ingrese f(x[{i + 1}]): \"))\n",
        "    x.append(xi)\n",
        "    f.append(fi)\n",
        "\n",
        "xp = float(input(\"Ingrese el valor de x donde desea evaluar P(x): \"))"
      ],
      "metadata": {
        "id": "w1Y1HYcbbBbZ",
        "outputId": "7aeb3a47-e846-4cf1-e953-f705d19160a2",
        "colab": {
          "base_uri": "https://localhost:8080/"
        }
      },
      "execution_count": null,
      "outputs": [
        {
          "name": "stdout",
          "output_type": "stream",
          "text": [
            "Ingrese el numero de nodos: 6\n",
            "Ingrese los nodos (x) y sus valores correspondientes f(x):\n",
            "Ingrese x[1]: 1.0\n",
            "Ingrese f(x[1]): 0.7651977\n",
            "Ingrese x[2]: 1.3\n",
            "Ingrese f(x[2]): 0.6200860\n",
            "Ingrese x[3]: 1.6\n",
            "Ingrese f(x[3]): 0.4554022\n",
            "Ingrese x[4]: 1.9\n",
            "Ingrese f(x[4]): 0.2818186\n",
            "Ingrese x[5]: 2.2\n",
            "Ingrese f(x[5]): 0.1103623\n",
            "Ingrese x[6]: 2.5\n",
            "Ingrese f(x[6]): -0.0483838\n",
            "Ingrese el valor de x donde desea evaluar P(x): 1.5\n"
          ]
        }
      ]
    },
    {
      "cell_type": "code",
      "source": [
        "# Validamos  para asegurar que los nodos sean unicos\n",
        "if len(set(x)) != n:\n",
        "    print(\"Los nodos deben ser unicos. Intente nuevamente.\")\n",
        "else:\n",
        "    #PASO 1: Construccion de la tabla Qi,j\n",
        "    Q = np.zeros((n, n))\n",
        "\n",
        "    # Colocar los valores iniciales en la primera columna\n",
        "    for i in range(n):\n",
        "        Q[i, 0] = f[i]\n",
        "\n",
        "    # Construimos  Qi,j\n",
        "    for j in range(1, n):  # Columnas\n",
        "        for i in range(j, n):  # Filas\n",
        "            Q[i, j] = ((xp - x[i-j]) * Q[i, j-1] - (xp - x[i]) * Q[i-1, j-1]) / (x[i] - x[i-j]) #evaluamos en la formula dada en pag.91\n",
        "\n",
        "    # Mostrar la tabla Q  Paso 2: Salida\n",
        "    print(\"\\nTabla Q:\")\n",
        "    encabezado = \"i      xi           \" + \"     \".join([f\"Q(i, {j})\" for j in range(n)])  #Crea una comprensión de lista que crea una lista de cadenas\n",
        "    print(encabezado)\n",
        "\n",
        "    for i in range(n):\n",
        "        fila = [f\"{Q[i, j]:.7f}\" if i >= j else \"         \" for j in range(n)]\n",
        "        print(f\"{i:<6}{x[i]:<14.7f}\" + \"   \".join(fila)) #join une todos los elementos de la lista, # Imprime cada fila:i, x[i] y Q[i,j]\n",
        "\n",
        "    # El valor del polinomio evaluado en xp\n",
        "    Pxp = Q[n-1, n-1]\n",
        "    print(f\"\\nP({xp}) = {Pxp:.7f}\") #Aqui en el .7 se puede cambiar dependiendo cuantos decimales quiere.\n"
      ],
      "metadata": {
        "id": "6akdnaVnbu6H",
        "outputId": "39b4987a-1a2d-425b-fcfb-b37cd26c1165",
        "colab": {
          "base_uri": "https://localhost:8080/"
        }
      },
      "execution_count": null,
      "outputs": [
        {
          "output_type": "stream",
          "name": "stdout",
          "text": [
            "\n",
            "Tabla Q:\n",
            "i      xi           Q(i, 0)     Q(i, 1)     Q(i, 2)     Q(i, 3)     Q(i, 4)     Q(i, 5)\n",
            "0     1.0000000     0.7651977                                                            \n",
            "1     1.3000000     0.6200860   0.5233449                                                \n",
            "2     1.6000000     0.4554022   0.5102968   0.5124715                                    \n",
            "3     1.9000000     0.2818186   0.5132634   0.5112857   0.5118127                        \n",
            "4     2.2000000     0.1103623   0.5104270   0.5137361   0.5118302   0.5118200            \n",
            "5     2.5000000     -0.0483838   0.4807699   0.5301984   0.5119070   0.5118430   0.5118277\n",
            "\n",
            "P(1.5) = 0.5118277\n"
          ]
        }
      ]
    },
    {
      "cell_type": "markdown",
      "source": [
        "Se tiene un ejemplo del código realizado, es decir, usando Interpolación iterada de Neville con los datos \\\\\n",
        "$x_0 = 1.0, \\, f(x_0) = 0.7651977$ \\\\\n",
        "$x_1 = 1.3, \\, f(x_1) = 0.600860 $ \\\\\n",
        "$x_2 = 1.6, \\, f(x_2) = 0.4554022$ \\\\\n",
        "$x_3 = 1.9, \\, f(x_3) = 0.2818186$ \\\\\n",
        "$x_4 = 2.2, \\, f(x_4) = 0.1103623$ \\\\\n",
        "Tambien tomamos en cuenta el nodo que se agrego al final del ejemplo 2 \\\\\n",
        "$ x_5= 2.5, f(x_5)= − 0.0483838$ \\\\\n",
        "hallamos el valor de $p(x)=1.5$"
      ],
      "metadata": {
        "id": "Il8PVT6qsUA_"
      }
    }
  ]
}