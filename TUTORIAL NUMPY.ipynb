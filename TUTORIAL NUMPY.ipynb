{
  "nbformat": 4,
  "nbformat_minor": 0,
  "metadata": {
    "colab": {
      "provenance": [],
      "include_colab_link": true
    },
    "kernelspec": {
      "name": "python3",
      "display_name": "Python 3"
    },
    "language_info": {
      "name": "python"
    }
  },
  "cells": [
    {
      "cell_type": "markdown",
      "metadata": {
        "id": "view-in-github",
        "colab_type": "text"
      },
      "source": [
        "<a href=\"https://colab.research.google.com/github/Martinez-Ortiz-Zaira-Natalia/M-todos-Num-ricos-1/blob/main/TUTORIAL%20NUMPY.ipynb\" target=\"_parent\"><img src=\"https://colab.research.google.com/assets/colab-badge.svg\" alt=\"Open In Colab\"/></a>"
      ]
    },
    {
      "cell_type": "markdown",
      "source": [
        "#Tutorial de Numpy\n"
      ],
      "metadata": {
        "id": "Mh0FhzlmBL0h"
      }
    },
    {
      "cell_type": "markdown",
      "source": [
        "Numpy es una librería de Python especializada en el cálculo numérico y el análisis de datos.\n",
        "Introduce una nueva clase de objetos llamada \"arrays\" que permite representar colecciones de datos del mismo tipo en múltiples dimensiones. (Numpy 2024)"
      ],
      "metadata": {
        "id": "WHg-M6-1BTvV"
      }
    },
    {
      "cell_type": "markdown",
      "source": [
        "\n",
        "En este apartado te mostrare los distintos trabajos  que puedes realizar con las funciones de Numpy.  Para Empezar instalaremos Numpy si aun no se encuentra instalado: utilizas \"pip install numpy\""
      ],
      "metadata": {
        "id": "mD8KUkCSEq13"
      }
    },
    {
      "cell_type": "code",
      "source": [
        "import numpy as np # para empezar aprogramar se declara la libreria\n",
        "import matplotlib.pyplot as plt\n",
        "import numpy as np"
      ],
      "metadata": {
        "id": "1EH6_1wlGZKR"
      },
      "execution_count": 1,
      "outputs": []
    },
    {
      "cell_type": "code",
      "source": [
        "#Si desea crear un array se utiliza\n",
        "#np.array(lista) donde crea a partir de la lista o tupla proporcionada y devuelve una referencia a dicho array.\n",
        "\n",
        "# Puedes crear un array unidimensional (vector) a partir de una lista:\n",
        "a1 = np.array([-1, -2, -3, -4])\n",
        "print(\"Array de dimension 1: \")\n",
        "print(a1)\n",
        "\n",
        "#Para crear un array bidimensional (matriz), utiliza una lista de listas:\n",
        "a2 = np.array([[1.1, 2.2, 3.3], [4.4, 5.5, 6.6]])\n",
        "print(\"Array de dimension 2: \")\n",
        "print(a2)"
      ],
      "metadata": {
        "colab": {
          "base_uri": "https://localhost:8080/"
        },
        "id": "gcXeNiGZE0yR",
        "outputId": "0de2baca-90e0-4bcc-ca4a-9f8724565931"
      },
      "execution_count": 2,
      "outputs": [
        {
          "output_type": "stream",
          "name": "stdout",
          "text": [
            "Array de dimension 1: \n",
            "[-1 -2 -3 -4]\n",
            "Array de dimension 2: \n",
            "[[1.1 2.2 3.3]\n",
            " [4.4 5.5 6.6]]\n"
          ]
        }
      ]
    },
    {
      "cell_type": "code",
      "source": [
        "#Si deseas crear un array unidimensional  con solo 2 elementos se utiliza np.empty(dimensiones):\n",
        "array_vacio = np.empty(2)\n",
        "print(\"Array vacío:\\n\", array_vacio) #mandamos a imprimir\n",
        "\n",
        "#Si deseas crear un array bidimensional deberas indicar el número de filas y columnas que tendrá el array.\n",
        "array_vacio = np.empty((2, 3))\n",
        "print(\"Array vacío:\\n\", array_vacio)"
      ],
      "metadata": {
        "colab": {
          "base_uri": "https://localhost:8080/"
        },
        "id": "H7W2BKysHgE6",
        "outputId": "771174de-50bf-4b40-b365-d2b786248a98"
      },
      "execution_count": 3,
      "outputs": [
        {
          "output_type": "stream",
          "name": "stdout",
          "text": [
            "Array vacío:\n",
            " [-5.73021895e-300  6.58912372e-310]\n",
            "Array vacío:\n",
            " [[1.1 2.2 3.3]\n",
            " [4.4 5.5 6.6]]\n"
          ]
        }
      ]
    },
    {
      "cell_type": "code",
      "source": [
        "#Para crear un array lleno de ceros con las dimensiones especificadas se utiliza np.zeros(dimensiones)\n",
        "\n",
        "#Un array dimensional:\n",
        "array_ceros=np.zeros(2)\n",
        "print(\"Array de ceros:\\n\", array_ceros)\n",
        "\n",
        "#por otra parte, para crear un array bidimensional se debe indicar el numero de filas y columnas\n",
        "array_ceros=np.zeros((2,3))\n",
        "print(\"Array de ceros:\\n\", array_ceros)"
      ],
      "metadata": {
        "colab": {
          "base_uri": "https://localhost:8080/"
        },
        "id": "-HN4c-cQKKjp",
        "outputId": "dc2bf4e3-9f1c-4ce8-cf9f-671ad9974121"
      },
      "execution_count": 4,
      "outputs": [
        {
          "output_type": "stream",
          "name": "stdout",
          "text": [
            "Array de ceros:\n",
            " [0. 0.]\n",
            "Array de ceros:\n",
            " [[0. 0. 0.]\n",
            " [0. 0. 0.]]\n"
          ]
        }
      ]
    },
    {
      "cell_type": "code",
      "source": [
        "#Si desea crear un array lleno de unos con las dimensiones especificadas se utiliza  np.ones(dimensiones):\n",
        "\n",
        "array_unos = np.ones((2, 3)) #aqui el ejemplo es bidimensional\n",
        "print(\"Array de unos:\\n\", array_unos)"
      ],
      "metadata": {
        "colab": {
          "base_uri": "https://localhost:8080/"
        },
        "id": "YhdG6HxgLbrq",
        "outputId": "591dcadc-bdc7-4249-c28f-9ff7702c2a3f"
      },
      "execution_count": 5,
      "outputs": [
        {
          "output_type": "stream",
          "name": "stdout",
          "text": [
            "Array de unos:\n",
            " [[1. 1. 1.]\n",
            " [1. 1. 1.]]\n"
          ]
        }
      ]
    },
    {
      "cell_type": "code",
      "source": [
        "#si deseas crear un array donde todos los elementos son iguales al valor proporcionado deberas utilizar np.full(dimensiones, valor).\n",
        "array_llenado = np.full((2, 3), 7)\n",
        "print(\"Array lleno de 7:\\n\", array_llenado)"
      ],
      "metadata": {
        "colab": {
          "base_uri": "https://localhost:8080/"
        },
        "id": "A6SDsi3XMEEF",
        "outputId": "5464db90-453c-4308-b700-abf0fbe973d2"
      },
      "execution_count": 6,
      "outputs": [
        {
          "output_type": "stream",
          "name": "stdout",
          "text": [
            "Array lleno de 7:\n",
            " [[7 7 7]\n",
            " [7 7 7]]\n"
          ]
        }
      ]
    },
    {
      "cell_type": "code",
      "source": [
        "#Para  un array unidimensional que contiene una secuencia de números desde inicio hasta fin, tomando valores con un paso de salto se utiliza np.arange(inicio, fin, salto).\n",
        "array_rango = np.arange(0, 10, 2)\n",
        "print(\"Array con np.arange:\\n\", array_rango)"
      ],
      "metadata": {
        "colab": {
          "base_uri": "https://localhost:8080/"
        },
        "id": "bm2UrCovMqMX",
        "outputId": "957ac181-1463-49b0-b121-8a761affbf6d"
      },
      "execution_count": 7,
      "outputs": [
        {
          "output_type": "stream",
          "name": "stdout",
          "text": [
            "Array con np.arange:\n",
            " [0 2 4 6 8]\n"
          ]
        }
      ]
    },
    {
      "cell_type": "code",
      "source": [
        "#Por otra parte, existe np.linspace(inicio, fin, n) donde crea un array unidimensional con n valores equidistantes entre inicio y fin.\n",
        "array_lineal = np.linspace(0, 1, 5)\n",
        "print(\"Array con np.linspace:\\n\", array_lineal)"
      ],
      "metadata": {
        "colab": {
          "base_uri": "https://localhost:8080/"
        },
        "id": "P2NTAkVKNBNH",
        "outputId": "f6ecf9fb-924d-4d40-8775-073e5bfe21a2"
      },
      "execution_count": 8,
      "outputs": [
        {
          "output_type": "stream",
          "name": "stdout",
          "text": [
            "Array con np.linspace:\n",
            " [0.   0.25 0.5  0.75 1.  ]\n"
          ]
        }
      ]
    },
    {
      "cell_type": "code",
      "source": [
        "#Para crear un array cuyos elementos son números aleatorios en un intervalo se utiliza  np.random.random(dimensiones):\n",
        "array_aleatorio = np.random.random((2, 3)) #aqui deberas indicar el número de filas y columnas que tendrá el array\n",
        "print(\"Array aleatorio:\\n\", array_aleatorio)"
      ],
      "metadata": {
        "colab": {
          "base_uri": "https://localhost:8080/"
        },
        "id": "x2ZvMcRWNLfN",
        "outputId": "20d919f8-0d0f-4837-f3a7-6d277b8c01d5"
      },
      "execution_count": 9,
      "outputs": [
        {
          "output_type": "stream",
          "name": "stdout",
          "text": [
            "Array aleatorio:\n",
            " [[0.59635465 0.42343292 0.35072262]\n",
            " [0.82327395 0.34310716 0.31009341]]\n"
          ]
        }
      ]
    },
    {
      "cell_type": "markdown",
      "source": [
        "Lo interesante es que tambien Numpy cuenta con ATRIBUTOS"
      ],
      "metadata": {
        "id": "KREqIVRPNs11"
      }
    },
    {
      "cell_type": "code",
      "source": [
        "#Los atributos que usted puede utilizar son:\n",
        "#a.ndim: Devuelve el número de dimensiones del array a\n",
        "#a.shape: Devuelve una tupla con las dimensiones del array a\n",
        "#a.size: Devuelve el número total de elementos en el array a\n",
        "#a.dtype: Devuelve el tipo de datos de los elementos del array a\n",
        "\n",
        "#Ejemplo:\n",
        "# Crea un array\n",
        "array = np.array([[1, 2, 3], [4, 5, 6]])\n",
        "\n",
        "# Imprime los atributos del array\n",
        "print(\"Número de dimensiones:\", array.ndim)\n",
        "print(\"Dimensiones del array:\", array.shape)\n",
        "print(\"Número total de elementos:\", array.size)\n",
        "print(\"Tipo de datos de los elementos:\", array.dtype)"
      ],
      "metadata": {
        "colab": {
          "base_uri": "https://localhost:8080/"
        },
        "id": "b02lilNtNxkf",
        "outputId": "f2b0580d-ed3b-4091-b10e-41499a2b8004"
      },
      "execution_count": 10,
      "outputs": [
        {
          "output_type": "stream",
          "name": "stdout",
          "text": [
            "Número de dimensiones: 2\n",
            "Dimensiones del array: (2, 3)\n",
            "Número total de elementos: 6\n",
            "Tipo de datos de los elementos: int64\n"
          ]
        }
      ]
    },
    {
      "cell_type": "code",
      "source": [
        "#Podemos añadir nuevos elementos a un array ya creado:\n",
        "a = np.array((1,2,3))\n",
        "np.append(a,(4,5)) #se agrega los elementos 4 y 5 al array “a”"
      ],
      "metadata": {
        "colab": {
          "base_uri": "https://localhost:8080/"
        },
        "id": "_axNG7L2PDXv",
        "outputId": "c0cb7123-16dc-4880-b770-21a6e037e3fb"
      },
      "execution_count": 11,
      "outputs": [
        {
          "output_type": "execute_result",
          "data": {
            "text/plain": [
              "array([1, 2, 3, 4, 5])"
            ]
          },
          "metadata": {},
          "execution_count": 11
        }
      ]
    },
    {
      "cell_type": "code",
      "source": [
        "#De la misma manera podemos eliminar elementos en los arrays ya creados, para esto solamente debemos indicar la posición del elemento que queremos eliminar.\n",
        "np.delete(a,1)"
      ],
      "metadata": {
        "colab": {
          "base_uri": "https://localhost:8080/"
        },
        "id": "FbLo3ftXP3Yl",
        "outputId": "a15da169-c40f-47b3-8227-63439366e7f4"
      },
      "execution_count": 12,
      "outputs": [
        {
          "output_type": "execute_result",
          "data": {
            "text/plain": [
              "array([1, 3])"
            ]
          },
          "metadata": {},
          "execution_count": 12
        }
      ]
    },
    {
      "cell_type": "markdown",
      "source": [
        "Por otra parte numpy ofrece varios rangos de funciones matematicas"
      ],
      "metadata": {
        "id": "CdLUOgcoQMyu"
      }
    },
    {
      "cell_type": "code",
      "source": [
        "#Usted puede realizar con NumPy operaciones basicas:\n",
        "a = np.array([[1, 2, 3], [4, 5, 6]]) #se crean los arrays\n",
        "b = np.array([[1, 1, 1], [2, 2, 2]])\n",
        "print(\"Suma: \", a + b ) #o np.add(a, b).\n",
        "print(\"Resta: \", a-b) # o np.subtract(a, b)\n",
        "print(\"Division:  \",a / b) # o np.divide(a, b)\n",
        "print(\"Multiplicacion: \", a * b) # o np.multiply(a, b)"
      ],
      "metadata": {
        "colab": {
          "base_uri": "https://localhost:8080/"
        },
        "id": "alnLDF0BQfzH",
        "outputId": "c720cb4a-3267-43d3-bc21-109b6f6ece3a"
      },
      "execution_count": 13,
      "outputs": [
        {
          "output_type": "stream",
          "name": "stdout",
          "text": [
            "Suma:  [[2 3 4]\n",
            " [6 7 8]]\n",
            "Resta:  [[0 1 2]\n",
            " [2 3 4]]\n",
            "Division:   [[1.  2.  3. ]\n",
            " [2.  2.5 3. ]]\n",
            "Multiplicacion:  [[ 1  2  3]\n",
            " [ 8 10 12]]\n"
          ]
        }
      ]
    },
    {
      "cell_type": "code",
      "source": [
        "#Ademas se puede calcular la raiz cuadrada:\n",
        "# Crea los arrays\n",
        "a = np.array([[1, 2], [3, 4]])\n",
        "b = np.array([[5, 6], [7, 8]])\n",
        "\n",
        "# Divide usando np.divide(a,b)\n",
        "c = np.divide(a, b)\n",
        "print(\"División:\\n\", c)\n",
        "\n",
        "# Calcula la raíz cuadrada de los elementos de c\n",
        "raiz_cuadrada = np.sqrt(c)\n",
        "print(\"Raíz cuadrada:\\n\", raiz_cuadrada) #manda a imprimir"
      ],
      "metadata": {
        "colab": {
          "base_uri": "https://localhost:8080/"
        },
        "id": "bA3vWT6oRcJH",
        "outputId": "a02d3dac-3d32-4a59-8159-374b4c4774a9"
      },
      "execution_count": 14,
      "outputs": [
        {
          "output_type": "stream",
          "name": "stdout",
          "text": [
            "División:\n",
            " [[0.2        0.33333333]\n",
            " [0.42857143 0.5       ]]\n",
            "Raíz cuadrada:\n",
            " [[0.4472136  0.57735027]\n",
            " [0.65465367 0.70710678]]\n"
          ]
        }
      ]
    },
    {
      "cell_type": "markdown",
      "source": [
        "Numpy tambien incorpora funciones para realizar las principales operaciones algebraicas con vectores y matrices."
      ],
      "metadata": {
        "id": "-Tq3wc4sR88s"
      }
    },
    {
      "cell_type": "code",
      "source": [
        "#Para realizar el producto escalar de dos vectores se utiliza el operador @ o u.dot(v) donde devuelve el producto escalar de los vectores u y v\n",
        "#creas dos array\n",
        "a = np.array([1, 2, 3])\n",
        "b = np.array([1, 0, 1])\n",
        "print(a @ b) #mandas a imprimir con la condicion\n",
        "print(a.dot(b))"
      ],
      "metadata": {
        "colab": {
          "base_uri": "https://localhost:8080/"
        },
        "id": "0r3ll2VzScDK",
        "outputId": "de93e96a-eec3-4a6c-9cd7-bade02759449"
      },
      "execution_count": 15,
      "outputs": [
        {
          "output_type": "stream",
          "name": "stdout",
          "text": [
            "4\n",
            "4\n"
          ]
        }
      ]
    },
    {
      "cell_type": "code",
      "source": [
        "#Para calcular el módulo de un vector se utiliza el siguiente método: norm(v) donde devuelve el módulo del vector v.\n",
        "a = np.array([3, 4]) #aqui se crea un vector Rn=R2\n",
        "print(np.linalg.norm(a))"
      ],
      "metadata": {
        "colab": {
          "base_uri": "https://localhost:8080/"
        },
        "id": "0aVOT_UlSrff",
        "outputId": "2cd3e7d3-9870-4a67-b641-d46a4892b53d"
      },
      "execution_count": 16,
      "outputs": [
        {
          "output_type": "stream",
          "name": "stdout",
          "text": [
            "5.0\n"
          ]
        }
      ]
    },
    {
      "cell_type": "code",
      "source": [
        "#Para realizar el producto matricial se crea dos arrays y se imprime usando @ o (array1).dot(array2)\n",
        "a = np.array([[1, 2, 3], [4, 5, 6]])\n",
        "b = np.array([[1, 1], [2, 2], [3, 3]])\n",
        "print(a @ b)\n",
        "print(a.dot(b))"
      ],
      "metadata": {
        "colab": {
          "base_uri": "https://localhost:8080/"
        },
        "id": "BvXhhBxgTBSe",
        "outputId": "41c7725b-cfba-4824-b3b7-8bbf0d0a6bed"
      },
      "execution_count": 17,
      "outputs": [
        {
          "output_type": "stream",
          "name": "stdout",
          "text": [
            "[[14 14]\n",
            " [32 32]]\n",
            "[[14 14]\n",
            " [32 32]]\n"
          ]
        }
      ]
    },
    {
      "cell_type": "code",
      "source": [
        "#Para realizar el producto matricial se utiliza el mismo operador @ o a.dot(b) donde devuelve el producto matricial de las matrices a y b siempre y cuando sus dimensiones sean compatibles.\n",
        "#para eso creas 2 arrays\n",
        "a = np.array([[1, 2, 3], [4, 5, 6]])\n",
        "b = np.array([[1, 1], [2, 2], [3, 3]])\n",
        "print(a @ b)\n",
        "print(a.dot(b))"
      ],
      "metadata": {
        "colab": {
          "base_uri": "https://localhost:8080/"
        },
        "id": "Ilk97xrATOMK",
        "outputId": "4b67b3cb-b58c-45e7-86a1-05e39f0fef7b"
      },
      "execution_count": 18,
      "outputs": [
        {
          "output_type": "stream",
          "name": "stdout",
          "text": [
            "[[14 14]\n",
            " [32 32]]\n",
            "[[14 14]\n",
            " [32 32]]\n"
          ]
        }
      ]
    },
    {
      "cell_type": "code",
      "source": [
        "#Para trasponer una matriz se utiliza el método a.T\n",
        "a = np.array([[1, 2, 3], [4, 5, 6]])\n",
        "print(a.T)#Devuelve la matriz traspuesta de la matriz a."
      ],
      "metadata": {
        "colab": {
          "base_uri": "https://localhost:8080/"
        },
        "id": "QxHRJhqLTaLC",
        "outputId": "0aaed447-bf1d-4309-c695-02c516cc1434"
      },
      "execution_count": 19,
      "outputs": [
        {
          "output_type": "stream",
          "name": "stdout",
          "text": [
            "[[1 4]\n",
            " [2 5]\n",
            " [3 6]]\n"
          ]
        }
      ]
    },
    {
      "cell_type": "code",
      "source": [
        "#La traza de una matriz cuadrada se calcula con el siguiente método: a.trace()\n",
        "a = np.array([[1, 2, 3], [4, 5, 6], [7, 8, 9]])\n",
        "print(a.trace())  #Devuelve la traza (suma de la diagonal principal) de la matriz cuadrada a."
      ],
      "metadata": {
        "colab": {
          "base_uri": "https://localhost:8080/"
        },
        "id": "PoHNOL2_TouE",
        "outputId": "b02410c9-6274-4e3b-8c7d-d74324feebfa"
      },
      "execution_count": 20,
      "outputs": [
        {
          "output_type": "stream",
          "name": "stdout",
          "text": [
            "15\n"
          ]
        }
      ]
    },
    {
      "cell_type": "code",
      "source": [
        "# siguiente función:det(a)\n",
        "a = np.array([[1, 2], [3, 4]])\n",
        "print(np.linalg.det(a)) #se calcula su determinante y lo imprime"
      ],
      "metadata": {
        "colab": {
          "base_uri": "https://localhost:8080/"
        },
        "id": "Fw98OLNNT3KF",
        "outputId": "77e9cd27-ef44-4fcb-8859-07b05739583a"
      },
      "execution_count": 21,
      "outputs": [
        {
          "output_type": "stream",
          "name": "stdout",
          "text": [
            "-2.0000000000000004\n"
          ]
        }
      ]
    },
    {
      "cell_type": "code",
      "source": [
        "#Si desea calcular su inversa de una matriz se calcula con la siguiente función:inv(a)\n",
        "a = np.array([[1, 2], [3, 4]])\n",
        "print(np.linalg.inv(a))"
      ],
      "metadata": {
        "id": "5Ve7qmklUA-k",
        "colab": {
          "base_uri": "https://localhost:8080/"
        },
        "outputId": "d7c94943-3219-4049-dad9-d0d639cba20d"
      },
      "execution_count": 22,
      "outputs": [
        {
          "output_type": "stream",
          "name": "stdout",
          "text": [
            "[[-2.   1. ]\n",
            " [ 1.5 -0.5]]\n"
          ]
        }
      ]
    },
    {
      "cell_type": "code",
      "source": [
        "#Para resolver un sistema de ecuaciones lineales se utiliza la función siguiente:solve(a, b)\n",
        "a = np.array([[1, 2], [3, 5]])\n",
        "b = np.array([1, 2])\n",
        "print(np.linalg.solve(a, b))"
      ],
      "metadata": {
        "id": "Vtr8UFpOUajA",
        "colab": {
          "base_uri": "https://localhost:8080/"
        },
        "outputId": "3f5d66c0-c55e-46ca-96ad-7b9c166c02a0"
      },
      "execution_count": 23,
      "outputs": [
        {
          "output_type": "stream",
          "name": "stdout",
          "text": [
            "[-1.  1.]\n"
          ]
        }
      ]
    },
    {
      "cell_type": "code",
      "source": [
        "#Pero lo mas interesante, ¿Te preguntaras como crear una tabla con numpy y que es lo que puedo hacer?\n",
        "\n",
        "#import numpy as np mandas a llamar la funcion\n",
        "\n",
        "# Puedes crear una tabla utilizando una lista de listas. Cada sublista representará una fila de la tabla:\n",
        "data = np.array([[1, 2, 3], [4, 5, 6], [7, 8, 9]])\n",
        "print(\"Tabla inicial:\\n\", data)\n",
        "\n",
        "# Despues acceder a elementos individuales utilizando índices (recordando que el índice comienza en 0)\n",
        "print(\"Elemento en (1, 2):\", data[1, 2])\n",
        "\n",
        "# O bien acceder a una fila y una columna\n",
        "print(\"Fila 1:\", data[1, :])\n",
        "print(\"Columna 1:\", data[:, 1])\n",
        "\n",
        "# Modificar un elemento\n",
        "data[0, 0] = 10\n",
        "print(\"Tabla modificada:\\n\", data)\n",
        "\n",
        "# o realizar Funciones estadísticas\n",
        "print(\"Media:\", np.mean(data))\n",
        "print(\"Suma de cada columna:\", np.sum(data, axis=0))\n",
        "\n",
        "# Transponer la tabla (intercambia filas por columnas)\n",
        "transpuesta = np.transpose(data)\n",
        "print(\"Tabla transpuesta:\\n\", transpuesta)\n",
        "\n",
        "# Filtrar elementos mayores que 5\n",
        "filtrados = data[data > 5]\n",
        "print(\"Elementos mayores que 5:\", filtrados)\n",
        "\n",
        "# Funciones de agregación\n",
        "print(\"Valor mínimo:\", np.min(data))\n",
        "print(\"Valor máximo:\", np.max(data))"
      ],
      "metadata": {
        "colab": {
          "base_uri": "https://localhost:8080/"
        },
        "id": "OQyWyhysTora",
        "outputId": "58f011cb-d4dc-421a-b742-dd1de3a66d6b"
      },
      "execution_count": 24,
      "outputs": [
        {
          "output_type": "stream",
          "name": "stdout",
          "text": [
            "Tabla inicial:\n",
            " [[1 2 3]\n",
            " [4 5 6]\n",
            " [7 8 9]]\n",
            "Elemento en (1, 2): 6\n",
            "Fila 1: [4 5 6]\n",
            "Columna 1: [2 5 8]\n",
            "Tabla modificada:\n",
            " [[10  2  3]\n",
            " [ 4  5  6]\n",
            " [ 7  8  9]]\n",
            "Media: 6.0\n",
            "Suma de cada columna: [21 15 18]\n",
            "Tabla transpuesta:\n",
            " [[10  4  7]\n",
            " [ 2  5  8]\n",
            " [ 3  6  9]]\n",
            "Elementos mayores que 5: [10  6  7  8  9]\n",
            "Valor mínimo: 2\n",
            "Valor máximo: 10\n"
          ]
        }
      ]
    },
    {
      "cell_type": "code",
      "source": [
        "#¿Se puede crear polinomios? La respuesta es si\n",
        "# Crea el polinomio usando np.polynomial.Polynomial\n",
        "p = np.polynomial.Polynomial([ -5, 1, -3, 2])\n",
        "\n",
        "print(\"Polinomio:\")\n",
        "print(p)\n",
        "\n",
        "# Puedes evaluar el polinomio en x = 2\n",
        "resultado = p(2)\n",
        "print(\"Valor del polinomio en x = 2:\", resultado)\n",
        "\n",
        "# Crear otro polinomio q(x) = x^2 + 4x - 3\n",
        "q = np.polynomial.Polynomial([ -3, 4, 1])\n",
        "\n",
        "# Sumar p(x) y q(x)\n",
        "suma = p + q\n",
        "print(\"Suma de los polinomios:\")\n",
        "print(suma)\n"
      ],
      "metadata": {
        "id": "RjLNv63cY61m",
        "outputId": "d365caf3-83eb-4df9-d7f5-0d9920bf3215",
        "colab": {
          "base_uri": "https://localhost:8080/"
        }
      },
      "execution_count": 25,
      "outputs": [
        {
          "output_type": "stream",
          "name": "stdout",
          "text": [
            "Polinomio:\n",
            "-5.0 + 1.0·x - 3.0·x² + 2.0·x³\n",
            "Valor del polinomio en x = 2: 1.0\n",
            "Suma de los polinomios:\n",
            "-8.0 + 5.0·x - 2.0·x² + 2.0·x³\n"
          ]
        }
      ]
    },
    {
      "cell_type": "code",
      "source": [
        "#¿Como puedo manipular arreglos? Para eso se puede realizar con\n",
        "\n",
        "# Indexación en un arreglo 1D\n",
        "arr_1d = np.array([1, 2, 3, 4, 5])\n",
        "print(arr_1d[0])  # Primer elemento\n",
        "\n",
        "# Indexación en un arreglo 2D (matriz)\n",
        "arr_2d = np.array([[1, 2, 3], [4, 5, 6], [7, 8, 9]])\n",
        "print(arr_2d[1, 2])  # Elemento en la fila 1, columna 2\n",
        "\n",
        "# Slicing (sub-arreglos)\n",
        "sub_arr = arr_2d[0:2, 1:3]  # Filas 0-1, columnas 1-2\n",
        "print(sub_arr)\n",
        "\n",
        "\n"
      ],
      "metadata": {
        "colab": {
          "base_uri": "https://localhost:8080/"
        },
        "id": "lE8XNuqaMqw3",
        "outputId": "d7bfbdcf-18bc-4ff8-94a4-1ab0896f4e24"
      },
      "execution_count": 26,
      "outputs": [
        {
          "output_type": "stream",
          "name": "stdout",
          "text": [
            "1\n",
            "6\n",
            "[[2 3]\n",
            " [5 6]]\n"
          ]
        }
      ]
    },
    {
      "cell_type": "code",
      "source": [
        "#Puedes cambiar la forma de un arreglo sin alterar sus datos usando reshape:\n",
        "# Cambiar la forma de un arreglo 1D a 2D\n",
        "arr_1d = np.array([1, 2, 3, 4, 5, 6])\n",
        "reshaped_arr = arr_1d.reshape(2, 3)\n",
        "print(reshaped_arr)\n",
        "\n",
        "#Puedes unir o dividir arreglos usando\n",
        "# Concatenar arreglos\n",
        "arr1 = np.array([1, 2, 3])\n",
        "arr2 = np.array([4, 5, 6])\n",
        "concatenated = np.concatenate((arr1, arr2))\n",
        "print(concatenated)\n",
        "\n",
        "# Dividir un arreglo\n",
        "divided = np.array_split(arr_1d, 3)\n",
        "print(divided)"
      ],
      "metadata": {
        "colab": {
          "base_uri": "https://localhost:8080/"
        },
        "id": "1b6JUzknNLDi",
        "outputId": "37324918-159b-4d2e-d85b-438933c6ce51"
      },
      "execution_count": 27,
      "outputs": [
        {
          "output_type": "stream",
          "name": "stdout",
          "text": [
            "[[1 2 3]\n",
            " [4 5 6]]\n",
            "[1 2 3 4 5 6]\n",
            "[array([1, 2]), array([3, 4]), array([5, 6])]\n"
          ]
        }
      ]
    },
    {
      "cell_type": "code",
      "source": [
        "#En breve un ejemplo ahora con axis:\n",
        "# Crea una tabla 3x3\n",
        "data = np.array([[1, 2, 3], [4, 5, 6], [7, 8, 9]])\n",
        "\n",
        "# Suma a lo largo de las columnas (axis=0)\n",
        "suma_columnas = np.sum(data, axis=0)\n",
        "print(\"Suma de las columnas:\", suma_columnas)\n",
        "\n",
        "# Suma a lo largo de las filas (axis=1)\n",
        "suma_filas = np.sum(data, axis=1)\n",
        "print(\"Suma de las filas:\", suma_filas)\n",
        "\n",
        "# Calcular la media\n",
        "media = np.mean(data)\n",
        "print(\"Media de todos los elementos:\", media)\n",
        "\n",
        "# Calcular la desviacion estandar\n",
        "std_dev = np.std(data)\n",
        "print(\"Desviación estándar:\", std_dev)\n",
        "\n",
        "# Calcular el valor maximo y minimo\n",
        "max_val = np.max(data)\n",
        "min_val = np.min(data)\n",
        "print(\"Maximo\", max_val)#imprime el valor maximo\n",
        "print(\"Minimo\" , min_val)#valor min\n",
        "\n",
        "# Reshape de la matriz (cambia la forma)\n",
        "reshaped_data = data.reshape(1, 9)\n",
        "print(\"Matriz reestructurada:\\n\", reshaped_data)\n"
      ],
      "metadata": {
        "colab": {
          "base_uri": "https://localhost:8080/"
        },
        "id": "NS1aLTzPPT24",
        "outputId": "6cd76b3f-77c3-47ab-9542-f5afc7383d7e"
      },
      "execution_count": 28,
      "outputs": [
        {
          "output_type": "stream",
          "name": "stdout",
          "text": [
            "Suma de las columnas: [12 15 18]\n",
            "Suma de las filas: [ 6 15 24]\n",
            "Media de todos los elementos: 5.0\n",
            "Desviación estándar: 2.581988897471611\n",
            "Maximo 9\n",
            "Minimo 1\n",
            "Matriz reestructurada:\n",
            " [[1 2 3 4 5 6 7 8 9]]\n"
          ]
        }
      ]
    },
    {
      "cell_type": "code",
      "source": [
        "#Afortunadamente, existen varias formas de guardar y cargar objetos con NumPy\n",
        "#. Por ejemplo, si crea esta matriz:\n",
        "a = np.array([1, 2, 3, 4, 5, 6])\n",
        "#puede guardarlo con:\n",
        "np.save('filename', a)\n",
        "#para reconstruir tu matriz\n",
        "b = np.load('filename.npy')\n",
        "print(b)\n",
        "\n",
        "\n",
        "csv_arr = np.array([1, 2, 3, 4, 5, 6, 7, 8])\n",
        "#guardar como archivo .csv\n",
        "np.savetxt('new_file.csv', csv_arr)\n",
        "np.loadtxt('new_file.csv') #Puede cargar rápida y fácilmente su archivo"
      ],
      "metadata": {
        "id": "vZw9vO-WVQh7",
        "outputId": "9c2df99b-fa8c-4679-dcde-6d81cdc3c5ba",
        "colab": {
          "base_uri": "https://localhost:8080/"
        }
      },
      "execution_count": 29,
      "outputs": [
        {
          "output_type": "stream",
          "name": "stdout",
          "text": [
            "[1 2 3 4 5 6]\n"
          ]
        },
        {
          "output_type": "execute_result",
          "data": {
            "text/plain": [
              "array([1., 2., 3., 4., 5., 6., 7., 8.])"
            ]
          },
          "metadata": {},
          "execution_count": 29
        }
      ]
    },
    {
      "cell_type": "markdown",
      "source": [
        "Gracias a todas estas herramientas que nos ofrece Numpy nos podra llegar a servir para proyectos o trabajos a futuro para poderlo realizar de una manera mas rapida y eficaz,etc.\n",
        "Toda esta informacion tiene como Bibliografia:\n",
        "NumPy. (2024). *NumPy: Los conceptos básicos*. https://numpy.org/doc/stable/user/absolute_beginners.html\n"
      ],
      "metadata": {
        "id": "a1EeW25lRV4y"
      }
    }
  ]
}