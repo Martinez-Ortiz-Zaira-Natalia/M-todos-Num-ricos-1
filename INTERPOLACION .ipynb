{
  "nbformat": 4,
  "nbformat_minor": 0,
  "metadata": {
    "colab": {
      "provenance": [],
      "include_colab_link": true
    },
    "kernelspec": {
      "name": "python3",
      "display_name": "Python 3"
    },
    "language_info": {
      "name": "python"
    }
  },
  "cells": [
    {
      "cell_type": "markdown",
      "metadata": {
        "id": "view-in-github",
        "colab_type": "text"
      },
      "source": [
        "<a href=\"https://colab.research.google.com/github/Martinez-Ortiz-Zaira-Natalia/M-todos-Num-ricos-1/blob/main/INTERPOLACION%20.ipynb\" target=\"_parent\"><img src=\"https://colab.research.google.com/assets/colab-badge.svg\" alt=\"Open In Colab\"/></a>"
      ]
    },
    {
      "cell_type": "markdown",
      "source": [
        "#Polinomio interpolante de Newton\n"
      ],
      "metadata": {
        "id": "CT2e6XH9Sgc3"
      }
    },
    {
      "cell_type": "code",
      "source": [
        "#Importamos las librerias que usaremos\n",
        "import numpy as np\n",
        "import matplotlib.pyplot as plt\n",
        "from sympy import sympify, symbols, expand"
      ],
      "metadata": {
        "id": "4HjZBq7_SeT6"
      },
      "execution_count": 1,
      "outputs": []
    },
    {
      "cell_type": "code",
      "source": [
        "# Función para calcular las diferencias de la tabla a partir de los valores de f(x).\n",
        "#Devuelve una lista de listas, donde cada lista corresponde a un orden de la diferencia\n",
        "def diferencias_finitas(F):\n",
        "    n = len(F)\n",
        "    diferencias = [np.copy(F)]  # El primer conjunto de diferencias es F\n",
        "\n",
        "    # Calcular las diferencias finitas de orden superior\n",
        "    for j in range(1, n):\n",
        "        dif = np.zeros(n-j)\n",
        "        for i in range(n-j):\n",
        "            dif[i] = diferencias[j-1][i+1] - diferencias[j-1][i]\n",
        "        diferencias.append(dif)\n",
        "\n",
        "    return diferencias\n"
      ],
      "metadata": {
        "id": "vD50TAe4dP6v"
      },
      "execution_count": 2,
      "outputs": []
    },
    {
      "cell_type": "code",
      "source": [
        "# Funcion para graficar tanto los puntos de la tabla como el polinomio interpolante.\n",
        "\n",
        "def graficar_polinomio(x_vals, F, polinomio_func):\n",
        "    # Crear una malla de x para graficar el polinomio de Newton suavemente\n",
        "    x_vals_denso = np.linspace(min(x_vals), max(x_vals), 500)\n",
        "    y_vals_denso = [polinomio_func(x) for x in x_vals_denso]\n",
        "\n",
        "    # Graficar los puntos de la tabla (x_i, f(x_i))\n",
        "    plt.scatter(x_vals, F, color=\"red\", marker=\"o\", label=\"Datos Originales\")\n",
        "\n",
        "    # Graficar el polinomio de Newton en color azul\n",
        "    plt.plot(x_vals_denso, y_vals_denso, color=\"orange\", label=\"Polinomio Interpolante\")\n",
        "\n",
        "    # Configurar el titulo, etiquetas y leyenda\n",
        "    plt.title(\"Gráfico del Polinomio Interpolante con los Datos Originales\")\n",
        "    plt.xlabel(\"x\")\n",
        "    plt.ylabel(\"f(x)\")\n",
        "    plt.grid(True)\n",
        "    plt.legend()\n",
        "    plt.show()\n"
      ],
      "metadata": {
        "id": "wt_95aJGdTDB"
      },
      "execution_count": 4,
      "outputs": []
    },
    {
      "cell_type": "code",
      "source": [
        "# Aqui mandamos a guardar los valores de las variables que usaremos\n",
        "def main():\n",
        "    # Ingresa el polinomio que va a usar para evaluar los valores de f(x)\n",
        "    print(\"\\nIngrese el polinomio que va a usar para evaluar los valores de f(x):\")\n",
        "    polinomio_str = input(\"Ingresa el polinomio (ejemplo: x**3 - 2*x**2 + 3*x + 5): \")\n",
        "\n",
        "    # Convertir el polinomio de cadena a función simbólica\n",
        "    x = symbols('x')\n",
        "    polinomio = sympify(polinomio_str)\n",
        "\n",
        "    # Mostrar el polinomio original\n",
        "    print(f\"\\nEl polinomio que has ingresado es: {polinomio}\")\n",
        "\n",
        "    # Expansión del polinomio (en caso de que el polinomio este factorizado o no esté completamente expandido)\n",
        "    polinomio_expandido = expand(polinomio)\n",
        "    print(f\"\\nEl polinomio expandido es: {polinomio_expandido}\")\n",
        "\n",
        "    # Ingresar los puntos x de la tabla\n",
        "    print(\"\\nIngrese los puntos (x_i) para los cuales desea evaluar f(x):\")\n",
        "    n = int(input(\"¿Cuántos puntos de datos tiene la tabla? \"))\n",
        "\n",
        "    x_vals = [] #aqui se almacenan los valores que ingresa el usuario\n",
        "    F = [] #aqui se almacenan los valores de f(x) que se calcula con el polinomio\n",
        "\n",
        "    for i in range(n):\n",
        "        x_i = float(input(f\"Ingrese el valor de x_{i+1}: \"))\n",
        "        x_vals.append(x_i)\n",
        "# Evalua el polinomio en los puntos dados por el usuario\n",
        "    F = [float(polinomio.subs(x, x_i)) for x_i in x_vals]\n",
        "\n",
        "    #Mandaremos a llamar lo que realizamos\n",
        "\n",
        "    # Mostrar la tabla de valores (x, f(x))\n",
        "    print(\"\\nTabla de Valores de f(x) en los puntos dados:\")\n",
        "    for x_val, f_val in zip(x_vals, F):\n",
        "        print(f\"x = {x_val}, f(x) = {f_val:.2f}\")\n",
        "    # Calcular las diferencias finitas\n",
        "    diferencias = diferencias_finitas(F)\n",
        "\n",
        "    # Crear el encabezado dinámicamente\n",
        "    encabezado = [\"x\", \"f(x)\"]  # Las primeras columnas son x y f(x)\n",
        "    for i in range(1, len(diferencias)):  # Añadir Δy, Δy², Δy³, etc.\n",
        "        encabezado.append(f\"Δy^{i}\")\n",
        "\n",
        "    # Mostrar la tabla de diferencias con encabezado\n",
        "    print(\"\\nTabla de Diferencias:\")\n",
        "    print(\"   \".join(encabezado))  # Imprimir el encabezado\n",
        "    # Mostrar la tabla de diferencias finitas\n",
        "    for i in range(len(diferencias[0])):\n",
        "        row = [x_vals[i]]\n",
        "        for j in range(len(diferencias)):\n",
        "            if i < len(diferencias[j]):\n",
        "                row.append(f\"{diferencias[j][i]:.2f}\")\n",
        "            else:\n",
        "                row.append(\"     \")\n",
        "        print(\"   \".join(map(str, row)))\n",
        "\n",
        "    # Grafica el polinomio con los puntos originales\n",
        "    graficar_polinomio(x_vals, F, lambda x: float(polinomio.subs(symbols('x'), x)))"
      ],
      "metadata": {
        "id": "sUFlXAmEdV_K"
      },
      "execution_count": 3,
      "outputs": []
    },
    {
      "cell_type": "code",
      "source": [
        "6#Ejecutamos el programa\n",
        "if __name__ == \"__main__\":\n",
        "    main()\n"
      ],
      "metadata": {
        "colab": {
          "base_uri": "https://localhost:8080/"
        },
        "id": "09xIQQvQdZNv",
        "outputId": "a534e4e5-4f06-4c8c-9223-152baaed1e7b"
      },
      "execution_count": null,
      "outputs": [
        {
          "output_type": "stream",
          "name": "stdout",
          "text": [
            "\n",
            "Ingrese el polinomio que va a usar para evaluar los valores de f(x):\n"
          ]
        }
      ]
    },
    {
      "cell_type": "markdown",
      "source": [
        "En este codigo ingresamos los puntos x y con el polinomio interpolante de Newton hayamos $y=f(x)$, la tabla tabular (diferencias) y graficamos ambos la grafica y los datos de la tabla."
      ],
      "metadata": {
        "id": "p2wcZq1iSwdI"
      }
    }
  ]
}