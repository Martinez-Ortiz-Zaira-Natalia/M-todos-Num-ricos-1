{
  "nbformat": 4,
  "nbformat_minor": 0,
  "metadata": {
    "colab": {
      "provenance": [],
      "include_colab_link": true
    },
    "kernelspec": {
      "name": "python3",
      "display_name": "Python 3"
    },
    "language_info": {
      "name": "python"
    }
  },
  "cells": [
    {
      "cell_type": "markdown",
      "metadata": {
        "id": "view-in-github",
        "colab_type": "text"
      },
      "source": [
        "<a href=\"https://colab.research.google.com/github/Martinez-Ortiz-Zaira-Natalia/M-todos-Num-ricos-1/blob/main/POLINOMIO%20DE%20%20HERMITE.ipynb\" target=\"_parent\"><img src=\"https://colab.research.google.com/assets/colab-badge.svg\" alt=\"Open In Colab\"/></a>"
      ]
    },
    {
      "cell_type": "markdown",
      "source": [
        "#Polinomio de Hermite\n"
      ],
      "metadata": {
        "id": "I5UyBxTOzh9O"
      }
    },
    {
      "cell_type": "code",
      "source": [
        "#Definir la biblioteca  que usaremos\n",
        "import numpy as np"
      ],
      "metadata": {
        "id": "kbUxNIkT0vQU"
      },
      "execution_count": null,
      "outputs": []
    },
    {
      "cell_type": "code",
      "source": [
        "# Guardar los datos a usar\n",
        "x = np.array([1.3, 1.6, 1.9])  # Aqui puedes editar los datos\n",
        "f = np.array([0.6200860, 0.4554022, 0.2818186])  #  valores de f(x)\n",
        "f_prime = np.array([-0.5220232, -0.5698959, -0.5811571])  # derivadas de f(x)"
      ],
      "metadata": {
        "id": "LbYYErmv03rO"
      },
      "execution_count": null,
      "outputs": []
    },
    {
      "cell_type": "code",
      "source": [
        "# Solicitar al usuario que ingrese el valor de x_eval\n",
        "y = float(input(\"En qué punto deseas evaluar? \"))"
      ],
      "metadata": {
        "colab": {
          "base_uri": "https://localhost:8080/"
        },
        "id": "ePoUjTxS1MXq",
        "outputId": "98544de4-f85b-44c0-a669-4213d11182e7"
      },
      "execution_count": null,
      "outputs": [
        {
          "name": "stdout",
          "output_type": "stream",
          "text": [
            "En qué punto deseas evaluar? 1.5\n"
          ]
        }
      ]
    },
    {
      "cell_type": "code",
      "source": [
        "# Paso 1:\n",
        "def hermite_interpolation(x, f, f_prime, x_eval):\n",
        "    n = len(x)  # Numero de puntos\n",
        "    z = np.zeros(2 * n)  # Z sera el arreglo que contiene los nodos duplicados\n",
        "    Q = np.zeros((2 * n, 2 * n))  # La tabla de diferencias divididas\n",
        "\n",
        "    # Paso 2: Duplicar los puntos en z y asignar los valores de la funcion y su derivada\n",
        "    for i in range(n):\n",
        "        z[2 * i] = x[i]\n",
        "        z[2 * i + 1] = x[i]\n",
        "        Q[2 * i, 0] = f[i]\n",
        "        Q[2 * i + 1, 0] = f[i]\n",
        "        Q[2 * i + 1, 1] = f_prime[i]\n",
        "\n",
        "    # Paso 3: Calcular las primeras diferencias divididas para el caso i distinto de 0\n",
        "    for i in range(1, n):\n",
        "        Q[2 * i, 1] = (Q[2 * i, 0] - Q[2 * i - 1, 0]) / (z[2 * i] - z[2 * i - 1])\n",
        "\n",
        "    # Paso 4: Calcular las diferencias divididas para i = 2, 3,..., 2n + 1\n",
        "    for i in range(2, 2 * n):\n",
        "        for j in range(2, i + 1):\n",
        "            Q[i, j] = (Q[i, j - 1] - Q[i - 1, j - 1]) / (z[i] - z[i - j])\n",
        "\n",
        "    # Imprime la tabla de diferencias divididas\n",
        "    print(\"Tabla de diferencias divididas (Con respecto a Hermite):\")\n",
        "\n",
        "    # Definir los encabezados de las columnas de manera fija para los primeros 2 columnas\n",
        "    headers = [\"x\"] + [f\"Q[i][{i}]\" for i in range(0, 2 * n)]\n",
        "\n",
        "    # Imprime los encabezados de la tabla\n",
        "    print(\"          \".join(headers))  # Imprime los titulos de las columnas\n",
        "\n",
        "    for i in range(2 * n):\n",
        "        # Imprime x y las diferencias divididas Q[i][j]\n",
        "        print(f\"{z[i]:.6f}\", end=\"\\t\")  # Muestra el valor de x\n",
        "        for j in range(i + 1):\n",
        "            print(f\"{Q[i, j]:.6f}\", end=\"\\t\")  # Muestra los valores de las diferencias divididas\n",
        "        print()  # Nueva línea para cada fila\n",
        "\n",
        "    # Paso 5: Evaluar el polinomio de Hermite  Donde da la Salida\n",
        "    result = Q[0, 0]  # El primer valor es f(z_0)\n",
        "    product = 1  # Empezamos con el primer término como 1 (es (x_eval - z_0)^0)\n",
        "\n",
        "     # Generar el polinomio como una cadena de texto\n",
        "    poly_terms = [f\"{Q[0, 0]:.6f}\"]\n",
        "\n",
        "    # Generar los terminos del polinomio de Hermite\n",
        "    for i in range(1, 2 * n):\n",
        "        term = f\"(x - {z[i - 1]:.6f})\"\n",
        "        for j in range(1, i):\n",
        "            term += f\" * (x - {z[j - 1]:.6f})\"\n",
        "        term += f\" * {Q[i, i]:.6f}\"\n",
        "        poly_terms.append(term)\n",
        "\n",
        "    # Imprimir el polinomio completo\n",
        "    print(\"\\nEl polinomio de Hermite generado es:\")\n",
        "    poly_string = \" + \".join(poly_terms)\n",
        "    print(poly_string)\n",
        "\n",
        "    # Evalua el polinomio en el valor x_eval\n",
        "    evaluation_result = Q[0, 0]\n",
        "    product = 1\n",
        "    for i in range(1, 2 * n):\n",
        "        product *= (x_eval - z[i - 1])\n",
        "        evaluation_result += Q[i, i] * product\n",
        "\n",
        "    return evaluation_result"
      ],
      "metadata": {
        "id": "_1oKGWJg1i1W"
      },
      "execution_count": null,
      "outputs": []
    },
    {
      "cell_type": "code",
      "source": [
        "#Guarda el valor del punto x\n",
        "x_eval=y\n",
        "result = hermite_interpolation(x, f, f_prime, x_eval)\n",
        "# Imprime el resultado de la evaluacion\n",
        "print(f\"\\nValor del polinomio en x es {x_eval} : {result:.6f}\")"
      ],
      "metadata": {
        "colab": {
          "base_uri": "https://localhost:8080/"
        },
        "id": "T3Y_tPlg28u5",
        "outputId": "7d6e10f7-47f7-4aa3-9663-c41dcdcf13ac"
      },
      "execution_count": null,
      "outputs": [
        {
          "output_type": "stream",
          "name": "stdout",
          "text": [
            "Tabla de diferencias divididas (Con respecto a Hermite):\n",
            "x          Q[i][0]          Q[i][1]          Q[i][2]          Q[i][3]          Q[i][4]          Q[i][5]\n",
            "1.300000\t0.620086\t\n",
            "1.300000\t0.620086\t-0.522023\t\n",
            "1.600000\t0.455402\t-0.548946\t-0.089743\t\n",
            "1.600000\t0.455402\t-0.569896\t-0.069833\t0.066366\t\n",
            "1.900000\t0.281819\t-0.578612\t-0.029054\t0.067966\t0.002667\t\n",
            "1.900000\t0.281819\t-0.581157\t-0.008484\t0.068567\t0.001002\t-0.002775\t\n",
            "\n",
            "El polinomio de Hermite generado es:\n",
            "0.620086 + (x - 1.300000) * -0.522023 + (x - 1.300000) * (x - 1.300000) * -0.089743 + (x - 1.600000) * (x - 1.300000) * (x - 1.300000) * 0.066366 + (x - 1.600000) * (x - 1.300000) * (x - 1.300000) * (x - 1.600000) * 0.002667 + (x - 1.900000) * (x - 1.300000) * (x - 1.300000) * (x - 1.600000) * (x - 1.600000) * -0.002775\n",
            "\n",
            "Valor del polinomio en x es 1.5 : 0.511828\n"
          ]
        }
      ]
    },
    {
      "cell_type": "markdown",
      "source": [
        "En este programa implementamos  el método de diferencias divididas para calcular el polinomio osculante de Hermite del ejercicio 1 de la página 101, libro Burden.\n",
        "\n",
        "\\begin{array}{|c|c|c|c|}\n",
        "\\hline\n",
        "k & x_k & f(x_k) & f'(x_k) \\\\\n",
        "\\hline\n",
        "0 & 1.3 & 0.6200860 & -0.5220232 \\\\\n",
        "1 & 1.6 & 0.4554022 & -0.5698959 \\\\\n",
        "2 & 1.9 & 0.2818186 & -0.5811571 \\\\\n",
        "\\hline\n",
        "\\end{array}\n",
        "\n",
        "Además, evaluamos en un valor de x en este caso $x=1.5$\n",
        "\n"
      ],
      "metadata": {
        "id": "zwf6wcyD4aHv"
      }
    }
  ]
}